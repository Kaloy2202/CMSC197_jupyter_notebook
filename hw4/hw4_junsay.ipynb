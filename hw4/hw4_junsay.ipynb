{
  "cells": [
    {
      "cell_type": "code",
      "execution_count": 33,
      "metadata": {
        "id": "gZxC6-PU3HIs",
        "colab": {
          "base_uri": "https://localhost:8080/"
        },
        "outputId": "e28ca8a2-b4f5-4c6e-8c4e-53f93c94f8e9"
      },
      "outputs": [
        {
          "output_type": "stream",
          "name": "stdout",
          "text": [
            "['__MACOSX', 'trec06p-cs280']\n"
          ]
        }
      ],
      "source": [
        "import zipfile\n",
        "import os\n",
        "import numpy as np\n",
        "import pandas as pd\n",
        "from email import parser\n",
        "from collections import Counter\n",
        "from sklearn.model_selection import train_test_split\n",
        "import re\n",
        "\n",
        "# Path to the uploaded zip file\n",
        "dataset_zip_path = '/content/trec06p-cs280.zip'  # Update this path based on upload\n",
        "dataset_extraction_dir = '/content/trec06p-cs280'\n",
        "\n",
        "# Unzip the dataset\n",
        "with zipfile.ZipFile(dataset_zip_path, 'r') as zip_ref:\n",
        "    zip_ref.extractall(dataset_extraction_dir)\n",
        "\n",
        "# Verify the extraction\n",
        "print(os.listdir(dataset_extraction_dir))\n"
      ]
    },
    {
      "cell_type": "code",
      "execution_count": 34,
      "metadata": {
        "id": "7F2CWljz4Jm-",
        "colab": {
          "base_uri": "https://localhost:8080/"
        },
        "outputId": "ca04874a-8c16-4b92-ab23-77437ed63f04"
      },
      "outputs": [
        {
          "output_type": "stream",
          "name": "stdout",
          "text": [
            "Drive already mounted at /content/drive; to attempt to forcibly remount, call drive.mount(\"/content/drive\", force_remount=True).\n"
          ]
        },
        {
          "output_type": "execute_result",
          "data": {
            "text/plain": [
              "['__MACOSX', 'trec06p-cs280']"
            ]
          },
          "metadata": {},
          "execution_count": 34
        }
      ],
      "source": [
        "# Mount Google Drive (optional if storing large datasets)\n",
        "from google.colab import drive\n",
        "drive.mount('/content/drive')\n",
        "\n",
        "# Set paths for dataset and stop words\n",
        "DATASET_PATH = '/content/trec06p-cs280'  # Change if you upload it elsewhere\n",
        "STOP_WORDS_PATH = '/content/stop_words.txt'\n",
        "\n",
        "# Load stop words\n",
        "with open(STOP_WORDS_PATH, 'r') as f:\n",
        "    stop_words = set(f.read().splitlines())\n",
        "\n",
        "# Helper function to clean text\n",
        "def clean_email(email_text):\n",
        "    # Remove special characters, numbers, and extra spaces\n",
        "    email_text = re.sub(r'[^\\w\\s]', '', email_text)\n",
        "    email_text = re.sub(r'\\d+', '', email_text)\n",
        "    # Tokenize and remove stop words\n",
        "    tokens = email_text.lower().split()\n",
        "    tokens = [word for word in tokens if word not in stop_words]\n",
        "    return tokens\n",
        "\n",
        "# Explore dataset folder structure\n",
        "os.listdir(DATASET_PATH)\n"
      ]
    },
    {
      "cell_type": "code",
      "execution_count": 35,
      "metadata": {
        "id": "YF9G7PrV5BCP",
        "colab": {
          "base_uri": "https://localhost:8080/"
        },
        "outputId": "b934d3e2-7780-4667-d86d-07f785dae027"
      },
      "outputs": [
        {
          "output_type": "stream",
          "name": "stdout",
          "text": [
            "['__MACOSX', 'trec06p-cs280']\n",
            "['labels', '.DS_Store', 'README.rtf', 'data']\n",
            "ham ../data/000/000\n",
            "\n",
            "spam ../data/000/001\n",
            "\n",
            "spam ../data/000/002\n",
            "\n",
            "ham ../data/000/003\n",
            "\n",
            "spam ../data/000/004\n",
            "\n"
          ]
        }
      ],
      "source": [
        "# Define the path to the dataset\n",
        "dataset_extraction_dir = '/content/trec06p-cs280'\n",
        "# Path to the dataset folder\n",
        "trec06p_dir = '/content/trec06p-cs280/trec06p-cs280'\n",
        "\n",
        "# List the contents of the extracted dataset directory\n",
        "print(os.listdir(dataset_extraction_dir))\n",
        "\n",
        "# # Check for the `full` directory\n",
        "# if 'full' in os.listdir(dataset_extraction_dir):\n",
        "#     print(\"Contents of 'full' directory:\")\n",
        "#     print(os.listdir(os.path.join(dataset_extraction_dir, 'full')))\n",
        "# else:\n",
        "#     print(\"'full' directory not found.\")\n",
        "\n",
        "# List the contents of the main dataset folder\n",
        "print(os.listdir(trec06p_dir))\n",
        "\n",
        "# # Recursively explore the dataset folder\n",
        "# for root, dirs, files in os.walk(trec06p_dir):\n",
        "#     print(f\"Directory: {root}\")\n",
        "#     print(f\"Files: {files}\")\n",
        "#     print(f\"Subdirectories: {dirs}\")\n",
        "#     print(\"-\" * 40)\n",
        "\n",
        "labels_file = '/content/trec06p-cs280/trec06p-cs280/labels'\n",
        "\n",
        "# Check the content of the labels file\n",
        "with open(labels_file, 'r') as f:\n",
        "    for _ in range(5):  # Print the first 5 lines\n",
        "        print(f.readline())\n"
      ]
    },
    {
      "cell_type": "code",
      "execution_count": 36,
      "metadata": {
        "id": "BXhhYJr36PQW",
        "colab": {
          "base_uri": "https://localhost:8080/"
        },
        "outputId": "40a6ea4f-7c8d-444a-d597-990411f7132d"
      },
      "outputs": [
        {
          "output_type": "stream",
          "name": "stdout",
          "text": [
            "[(0, '/content/trec06p-cs280/trec06p-cs280/data/../data/000/000'), (1, '/content/trec06p-cs280/trec06p-cs280/data/../data/000/001'), (1, '/content/trec06p-cs280/trec06p-cs280/data/../data/000/002'), (0, '/content/trec06p-cs280/trec06p-cs280/data/../data/000/003'), (1, '/content/trec06p-cs280/trec06p-cs280/data/../data/000/004')]\n"
          ]
        }
      ],
      "source": [
        "email_data = []\n",
        "data_dir = '/content/trec06p-cs280/trec06p-cs280/data'\n",
        "\n",
        "with open(labels_file, 'r') as f:\n",
        "    for line in f:\n",
        "        label, relative_path = line.strip().split(' ')\n",
        "        label = 1 if label == 'spam' else 0  # 1 for spam, 0 for ham\n",
        "        full_path = os.path.join(data_dir, relative_path)\n",
        "        email_data.append((label, full_path))\n",
        "\n",
        "# Check the first few entries\n",
        "print(email_data[:5])\n"
      ]
    },
    {
      "cell_type": "code",
      "execution_count": 64,
      "metadata": {
        "id": "20D7gWk96VAV"
      },
      "outputs": [],
      "source": [
        "def clean_email(email_text, remove_stopwords=False):\n",
        "    \"\"\"Clean email text by removing punctuation, numbers, and optionally stop words.\"\"\"\n",
        "    # Remove special characters and numbers\n",
        "    email_text = re.sub(r'[^\\w\\s]', '', email_text)  # Remove punctuation\n",
        "    email_text = re.sub(r'\\d+', '', email_text)      # Remove numbers\n",
        "    # Tokenize the text\n",
        "    tokens = email_text.lower().split()\n",
        "    # Remove stop words if flag is True\n",
        "    if remove_stopwords:\n",
        "        tokens = [word for word in tokens if word not in stop_words]\n",
        "    return tokens\n",
        "\n",
        "# Modified function: does not remove stop words\n",
        "def clean_email_no_stopwords(email_text):\n",
        "    # Remove special characters, numbers, and extra spaces\n",
        "    email_text = re.sub(r'[^\\\\w\\\\s]', '', email_text)\n",
        "    email_text = re.sub(r'\\\\d+', '', email_text)\n",
        "    # Tokenize without removing stop words\n",
        "    tokens = email_text.lower().split()\n",
        "    return tokens"
      ]
    },
    {
      "cell_type": "code",
      "source": [
        "# Parse emails\n",
        "emails = []\n",
        "labels = []\n",
        "for label, path in email_data:\n",
        "    try:\n",
        "        with open(path, 'r', errors='ignore') as f:\n",
        "            msg = parser.Parser().parse(f)\n",
        "\n",
        "            # Check if the email has a payload\n",
        "            if msg.is_multipart():\n",
        "                email_text = ' '.join(\n",
        "                    part.get_payload(decode=True).decode(errors='ignore') if part.get_payload(decode=True) else ''\n",
        "                    for part in msg.get_payload()\n",
        "                )\n",
        "            else:\n",
        "                # Handle non-multipart emails\n",
        "                email_text = msg.get_payload(decode=True)\n",
        "                email_text = email_text.decode(errors='ignore') if email_text else ''\n",
        "\n",
        "            # Only clean and store non-empty emails\n",
        "            if email_text:\n",
        "                emails.append(clean_email(email_text))\n",
        "                labels.append(label)\n",
        "            else:\n",
        "                print(f\"Skipping empty email at {path}\")\n",
        "\n",
        "    except Exception as e:\n",
        "        print(f\"Error reading email at {path}: {e}\")\n",
        "\n",
        "# Check a sample\n",
        "print(emails[:1], labels[:1])"
      ],
      "metadata": {
        "colab": {
          "base_uri": "https://localhost:8080/"
        },
        "id": "UGOYt4RWxgm3",
        "outputId": "02a36651-125f-4d79-ef88-c774c9546cbc"
      },
      "execution_count": 65,
      "outputs": [
        {
          "output_type": "stream",
          "name": "stdout",
          "text": [
            "Skipping empty email at /content/trec06p-cs280/trec06p-cs280/data/../data/002/136\n",
            "Skipping empty email at /content/trec06p-cs280/trec06p-cs280/data/../data/003/273\n",
            "Skipping empty email at /content/trec06p-cs280/trec06p-cs280/data/../data/008/093\n",
            "Skipping empty email at /content/trec06p-cs280/trec06p-cs280/data/../data/008/192\n",
            "Skipping empty email at /content/trec06p-cs280/trec06p-cs280/data/../data/010/046\n",
            "Skipping empty email at /content/trec06p-cs280/trec06p-cs280/data/../data/010/070\n",
            "Skipping empty email at /content/trec06p-cs280/trec06p-cs280/data/../data/018/229\n",
            "Skipping empty email at /content/trec06p-cs280/trec06p-cs280/data/../data/019/268\n",
            "Skipping empty email at /content/trec06p-cs280/trec06p-cs280/data/../data/021/062\n",
            "Skipping empty email at /content/trec06p-cs280/trec06p-cs280/data/../data/022/013\n",
            "Skipping empty email at /content/trec06p-cs280/trec06p-cs280/data/../data/024/087\n",
            "Skipping empty email at /content/trec06p-cs280/trec06p-cs280/data/../data/025/218\n",
            "Skipping empty email at /content/trec06p-cs280/trec06p-cs280/data/../data/025/283\n",
            "Skipping empty email at /content/trec06p-cs280/trec06p-cs280/data/../data/026/116\n",
            "Skipping empty email at /content/trec06p-cs280/trec06p-cs280/data/../data/026/136\n",
            "Skipping empty email at /content/trec06p-cs280/trec06p-cs280/data/../data/027/040\n",
            "Skipping empty email at /content/trec06p-cs280/trec06p-cs280/data/../data/027/183\n",
            "Skipping empty email at /content/trec06p-cs280/trec06p-cs280/data/../data/027/198\n",
            "Skipping empty email at /content/trec06p-cs280/trec06p-cs280/data/../data/030/096\n",
            "Skipping empty email at /content/trec06p-cs280/trec06p-cs280/data/../data/030/097\n",
            "Skipping empty email at /content/trec06p-cs280/trec06p-cs280/data/../data/031/035\n",
            "Skipping empty email at /content/trec06p-cs280/trec06p-cs280/data/../data/032/046\n",
            "Skipping empty email at /content/trec06p-cs280/trec06p-cs280/data/../data/032/096\n",
            "Skipping empty email at /content/trec06p-cs280/trec06p-cs280/data/../data/032/258\n",
            "Skipping empty email at /content/trec06p-cs280/trec06p-cs280/data/../data/033/174\n",
            "Skipping empty email at /content/trec06p-cs280/trec06p-cs280/data/../data/034/055\n",
            "Skipping empty email at /content/trec06p-cs280/trec06p-cs280/data/../data/034/118\n",
            "Skipping empty email at /content/trec06p-cs280/trec06p-cs280/data/../data/034/183\n",
            "Skipping empty email at /content/trec06p-cs280/trec06p-cs280/data/../data/035/104\n",
            "Skipping empty email at /content/trec06p-cs280/trec06p-cs280/data/../data/035/263\n",
            "Skipping empty email at /content/trec06p-cs280/trec06p-cs280/data/../data/036/214\n",
            "Skipping empty email at /content/trec06p-cs280/trec06p-cs280/data/../data/036/262\n",
            "Skipping empty email at /content/trec06p-cs280/trec06p-cs280/data/../data/037/162\n",
            "Skipping empty email at /content/trec06p-cs280/trec06p-cs280/data/../data/037/297\n",
            "Skipping empty email at /content/trec06p-cs280/trec06p-cs280/data/../data/040/268\n",
            "Skipping empty email at /content/trec06p-cs280/trec06p-cs280/data/../data/041/193\n",
            "Skipping empty email at /content/trec06p-cs280/trec06p-cs280/data/../data/048/109\n",
            "Skipping empty email at /content/trec06p-cs280/trec06p-cs280/data/../data/049/018\n",
            "Skipping empty email at /content/trec06p-cs280/trec06p-cs280/data/../data/050/055\n",
            "Skipping empty email at /content/trec06p-cs280/trec06p-cs280/data/../data/051/286\n",
            "Skipping empty email at /content/trec06p-cs280/trec06p-cs280/data/../data/052/057\n",
            "Skipping empty email at /content/trec06p-cs280/trec06p-cs280/data/../data/053/075\n",
            "Skipping empty email at /content/trec06p-cs280/trec06p-cs280/data/../data/054/220\n",
            "Skipping empty email at /content/trec06p-cs280/trec06p-cs280/data/../data/055/159\n",
            "Skipping empty email at /content/trec06p-cs280/trec06p-cs280/data/../data/058/090\n",
            "Skipping empty email at /content/trec06p-cs280/trec06p-cs280/data/../data/058/222\n",
            "Skipping empty email at /content/trec06p-cs280/trec06p-cs280/data/../data/066/289\n",
            "Skipping empty email at /content/trec06p-cs280/trec06p-cs280/data/../data/067/188\n",
            "Skipping empty email at /content/trec06p-cs280/trec06p-cs280/data/../data/076/025\n",
            "Skipping empty email at /content/trec06p-cs280/trec06p-cs280/data/../data/076/027\n",
            "Skipping empty email at /content/trec06p-cs280/trec06p-cs280/data/../data/076/048\n",
            "Skipping empty email at /content/trec06p-cs280/trec06p-cs280/data/../data/076/072\n",
            "Skipping empty email at /content/trec06p-cs280/trec06p-cs280/data/../data/078/106\n",
            "Skipping empty email at /content/trec06p-cs280/trec06p-cs280/data/../data/078/227\n",
            "Skipping empty email at /content/trec06p-cs280/trec06p-cs280/data/../data/081/152\n",
            "Skipping empty email at /content/trec06p-cs280/trec06p-cs280/data/../data/081/162\n",
            "Skipping empty email at /content/trec06p-cs280/trec06p-cs280/data/../data/081/169\n",
            "Skipping empty email at /content/trec06p-cs280/trec06p-cs280/data/../data/081/203\n",
            "Skipping empty email at /content/trec06p-cs280/trec06p-cs280/data/../data/081/207\n",
            "Skipping empty email at /content/trec06p-cs280/trec06p-cs280/data/../data/081/215\n",
            "Skipping empty email at /content/trec06p-cs280/trec06p-cs280/data/../data/081/223\n",
            "Skipping empty email at /content/trec06p-cs280/trec06p-cs280/data/../data/081/227\n",
            "Skipping empty email at /content/trec06p-cs280/trec06p-cs280/data/../data/081/231\n",
            "Skipping empty email at /content/trec06p-cs280/trec06p-cs280/data/../data/081/244\n",
            "Skipping empty email at /content/trec06p-cs280/trec06p-cs280/data/../data/081/245\n",
            "Skipping empty email at /content/trec06p-cs280/trec06p-cs280/data/../data/081/275\n",
            "Skipping empty email at /content/trec06p-cs280/trec06p-cs280/data/../data/082/000\n",
            "Skipping empty email at /content/trec06p-cs280/trec06p-cs280/data/../data/082/006\n",
            "Skipping empty email at /content/trec06p-cs280/trec06p-cs280/data/../data/082/009\n",
            "Skipping empty email at /content/trec06p-cs280/trec06p-cs280/data/../data/082/012\n",
            "Skipping empty email at /content/trec06p-cs280/trec06p-cs280/data/../data/082/019\n",
            "Skipping empty email at /content/trec06p-cs280/trec06p-cs280/data/../data/083/014\n",
            "Skipping empty email at /content/trec06p-cs280/trec06p-cs280/data/../data/083/053\n",
            "Skipping empty email at /content/trec06p-cs280/trec06p-cs280/data/../data/087/039\n",
            "Skipping empty email at /content/trec06p-cs280/trec06p-cs280/data/../data/087/184\n",
            "Skipping empty email at /content/trec06p-cs280/trec06p-cs280/data/../data/087/226\n",
            "Skipping empty email at /content/trec06p-cs280/trec06p-cs280/data/../data/088/012\n",
            "Skipping empty email at /content/trec06p-cs280/trec06p-cs280/data/../data/090/200\n",
            "Skipping empty email at /content/trec06p-cs280/trec06p-cs280/data/../data/092/164\n",
            "Skipping empty email at /content/trec06p-cs280/trec06p-cs280/data/../data/095/242\n",
            "Skipping empty email at /content/trec06p-cs280/trec06p-cs280/data/../data/096/030\n",
            "Skipping empty email at /content/trec06p-cs280/trec06p-cs280/data/../data/098/003\n",
            "Skipping empty email at /content/trec06p-cs280/trec06p-cs280/data/../data/098/103\n",
            "Skipping empty email at /content/trec06p-cs280/trec06p-cs280/data/../data/099/024\n",
            "Skipping empty email at /content/trec06p-cs280/trec06p-cs280/data/../data/100/015\n",
            "Skipping empty email at /content/trec06p-cs280/trec06p-cs280/data/../data/100/028\n",
            "Skipping empty email at /content/trec06p-cs280/trec06p-cs280/data/../data/100/117\n",
            "Skipping empty email at /content/trec06p-cs280/trec06p-cs280/data/../data/100/147\n",
            "Skipping empty email at /content/trec06p-cs280/trec06p-cs280/data/../data/100/223\n",
            "Skipping empty email at /content/trec06p-cs280/trec06p-cs280/data/../data/100/224\n",
            "Skipping empty email at /content/trec06p-cs280/trec06p-cs280/data/../data/101/005\n",
            "Skipping empty email at /content/trec06p-cs280/trec06p-cs280/data/../data/101/013\n",
            "Skipping empty email at /content/trec06p-cs280/trec06p-cs280/data/../data/101/097\n",
            "Skipping empty email at /content/trec06p-cs280/trec06p-cs280/data/../data/101/157\n",
            "Skipping empty email at /content/trec06p-cs280/trec06p-cs280/data/../data/101/263\n",
            "Skipping empty email at /content/trec06p-cs280/trec06p-cs280/data/../data/101/291\n",
            "Skipping empty email at /content/trec06p-cs280/trec06p-cs280/data/../data/102/055\n",
            "Skipping empty email at /content/trec06p-cs280/trec06p-cs280/data/../data/104/026\n",
            "Skipping empty email at /content/trec06p-cs280/trec06p-cs280/data/../data/104/031\n",
            "Skipping empty email at /content/trec06p-cs280/trec06p-cs280/data/../data/106/199\n",
            "Skipping empty email at /content/trec06p-cs280/trec06p-cs280/data/../data/107/142\n",
            "Skipping empty email at /content/trec06p-cs280/trec06p-cs280/data/../data/107/213\n",
            "Skipping empty email at /content/trec06p-cs280/trec06p-cs280/data/../data/107/273\n",
            "Skipping empty email at /content/trec06p-cs280/trec06p-cs280/data/../data/108/017\n",
            "Skipping empty email at /content/trec06p-cs280/trec06p-cs280/data/../data/109/169\n",
            "Skipping empty email at /content/trec06p-cs280/trec06p-cs280/data/../data/110/086\n",
            "Skipping empty email at /content/trec06p-cs280/trec06p-cs280/data/../data/111/060\n",
            "Skipping empty email at /content/trec06p-cs280/trec06p-cs280/data/../data/111/084\n",
            "Skipping empty email at /content/trec06p-cs280/trec06p-cs280/data/../data/111/087\n",
            "Skipping empty email at /content/trec06p-cs280/trec06p-cs280/data/../data/111/138\n",
            "Skipping empty email at /content/trec06p-cs280/trec06p-cs280/data/../data/111/273\n",
            "Skipping empty email at /content/trec06p-cs280/trec06p-cs280/data/../data/112/114\n",
            "Skipping empty email at /content/trec06p-cs280/trec06p-cs280/data/../data/112/117\n",
            "Skipping empty email at /content/trec06p-cs280/trec06p-cs280/data/../data/112/118\n",
            "Skipping empty email at /content/trec06p-cs280/trec06p-cs280/data/../data/112/249\n",
            "Skipping empty email at /content/trec06p-cs280/trec06p-cs280/data/../data/113/126\n",
            "Skipping empty email at /content/trec06p-cs280/trec06p-cs280/data/../data/113/252\n",
            "Skipping empty email at /content/trec06p-cs280/trec06p-cs280/data/../data/114/174\n",
            "Skipping empty email at /content/trec06p-cs280/trec06p-cs280/data/../data/114/201\n",
            "Skipping empty email at /content/trec06p-cs280/trec06p-cs280/data/../data/114/215\n",
            "Skipping empty email at /content/trec06p-cs280/trec06p-cs280/data/../data/114/258\n",
            "Skipping empty email at /content/trec06p-cs280/trec06p-cs280/data/../data/115/002\n",
            "Skipping empty email at /content/trec06p-cs280/trec06p-cs280/data/../data/115/010\n",
            "Skipping empty email at /content/trec06p-cs280/trec06p-cs280/data/../data/115/142\n",
            "Skipping empty email at /content/trec06p-cs280/trec06p-cs280/data/../data/115/152\n",
            "Skipping empty email at /content/trec06p-cs280/trec06p-cs280/data/../data/115/173\n",
            "Skipping empty email at /content/trec06p-cs280/trec06p-cs280/data/../data/116/063\n",
            "Skipping empty email at /content/trec06p-cs280/trec06p-cs280/data/../data/116/071\n",
            "Skipping empty email at /content/trec06p-cs280/trec06p-cs280/data/../data/116/085\n",
            "Skipping empty email at /content/trec06p-cs280/trec06p-cs280/data/../data/116/151\n",
            "Skipping empty email at /content/trec06p-cs280/trec06p-cs280/data/../data/116/255\n",
            "Skipping empty email at /content/trec06p-cs280/trec06p-cs280/data/../data/116/291\n",
            "Skipping empty email at /content/trec06p-cs280/trec06p-cs280/data/../data/116/293\n",
            "Skipping empty email at /content/trec06p-cs280/trec06p-cs280/data/../data/116/294\n",
            "Skipping empty email at /content/trec06p-cs280/trec06p-cs280/data/../data/116/296\n",
            "Skipping empty email at /content/trec06p-cs280/trec06p-cs280/data/../data/117/025\n",
            "Skipping empty email at /content/trec06p-cs280/trec06p-cs280/data/../data/117/075\n",
            "Skipping empty email at /content/trec06p-cs280/trec06p-cs280/data/../data/117/106\n",
            "Skipping empty email at /content/trec06p-cs280/trec06p-cs280/data/../data/117/186\n",
            "Skipping empty email at /content/trec06p-cs280/trec06p-cs280/data/../data/117/198\n",
            "Skipping empty email at /content/trec06p-cs280/trec06p-cs280/data/../data/117/247\n",
            "Skipping empty email at /content/trec06p-cs280/trec06p-cs280/data/../data/117/257\n",
            "Skipping empty email at /content/trec06p-cs280/trec06p-cs280/data/../data/118/027\n",
            "Skipping empty email at /content/trec06p-cs280/trec06p-cs280/data/../data/118/042\n",
            "Skipping empty email at /content/trec06p-cs280/trec06p-cs280/data/../data/118/101\n",
            "Skipping empty email at /content/trec06p-cs280/trec06p-cs280/data/../data/118/139\n",
            "Skipping empty email at /content/trec06p-cs280/trec06p-cs280/data/../data/118/165\n",
            "Skipping empty email at /content/trec06p-cs280/trec06p-cs280/data/../data/118/201\n",
            "Skipping empty email at /content/trec06p-cs280/trec06p-cs280/data/../data/118/209\n",
            "Skipping empty email at /content/trec06p-cs280/trec06p-cs280/data/../data/118/211\n",
            "Skipping empty email at /content/trec06p-cs280/trec06p-cs280/data/../data/118/288\n",
            "Skipping empty email at /content/trec06p-cs280/trec06p-cs280/data/../data/119/003\n",
            "Skipping empty email at /content/trec06p-cs280/trec06p-cs280/data/../data/119/012\n",
            "Skipping empty email at /content/trec06p-cs280/trec06p-cs280/data/../data/119/023\n",
            "Skipping empty email at /content/trec06p-cs280/trec06p-cs280/data/../data/119/024\n",
            "Skipping empty email at /content/trec06p-cs280/trec06p-cs280/data/../data/119/036\n",
            "Skipping empty email at /content/trec06p-cs280/trec06p-cs280/data/../data/119/037\n",
            "Skipping empty email at /content/trec06p-cs280/trec06p-cs280/data/../data/119/038\n",
            "Skipping empty email at /content/trec06p-cs280/trec06p-cs280/data/../data/119/039\n",
            "Skipping empty email at /content/trec06p-cs280/trec06p-cs280/data/../data/119/061\n",
            "Skipping empty email at /content/trec06p-cs280/trec06p-cs280/data/../data/119/062\n",
            "Skipping empty email at /content/trec06p-cs280/trec06p-cs280/data/../data/119/064\n",
            "Skipping empty email at /content/trec06p-cs280/trec06p-cs280/data/../data/119/065\n",
            "Skipping empty email at /content/trec06p-cs280/trec06p-cs280/data/../data/119/089\n",
            "Skipping empty email at /content/trec06p-cs280/trec06p-cs280/data/../data/119/120\n",
            "Skipping empty email at /content/trec06p-cs280/trec06p-cs280/data/../data/119/145\n",
            "Skipping empty email at /content/trec06p-cs280/trec06p-cs280/data/../data/119/147\n",
            "Skipping empty email at /content/trec06p-cs280/trec06p-cs280/data/../data/119/212\n",
            "Skipping empty email at /content/trec06p-cs280/trec06p-cs280/data/../data/119/216\n",
            "Skipping empty email at /content/trec06p-cs280/trec06p-cs280/data/../data/119/232\n",
            "Skipping empty email at /content/trec06p-cs280/trec06p-cs280/data/../data/120/008\n",
            "Skipping empty email at /content/trec06p-cs280/trec06p-cs280/data/../data/120/010\n",
            "Skipping empty email at /content/trec06p-cs280/trec06p-cs280/data/../data/120/024\n",
            "Skipping empty email at /content/trec06p-cs280/trec06p-cs280/data/../data/120/029\n",
            "Skipping empty email at /content/trec06p-cs280/trec06p-cs280/data/../data/120/046\n",
            "Skipping empty email at /content/trec06p-cs280/trec06p-cs280/data/../data/120/083\n",
            "Skipping empty email at /content/trec06p-cs280/trec06p-cs280/data/../data/120/102\n",
            "Skipping empty email at /content/trec06p-cs280/trec06p-cs280/data/../data/120/105\n",
            "Skipping empty email at /content/trec06p-cs280/trec06p-cs280/data/../data/120/120\n",
            "Skipping empty email at /content/trec06p-cs280/trec06p-cs280/data/../data/120/148\n",
            "Skipping empty email at /content/trec06p-cs280/trec06p-cs280/data/../data/120/153\n",
            "Skipping empty email at /content/trec06p-cs280/trec06p-cs280/data/../data/120/163\n",
            "Skipping empty email at /content/trec06p-cs280/trec06p-cs280/data/../data/120/204\n",
            "Skipping empty email at /content/trec06p-cs280/trec06p-cs280/data/../data/120/216\n",
            "Skipping empty email at /content/trec06p-cs280/trec06p-cs280/data/../data/120/224\n",
            "Skipping empty email at /content/trec06p-cs280/trec06p-cs280/data/../data/120/231\n",
            "Skipping empty email at /content/trec06p-cs280/trec06p-cs280/data/../data/120/240\n",
            "Skipping empty email at /content/trec06p-cs280/trec06p-cs280/data/../data/120/275\n",
            "Skipping empty email at /content/trec06p-cs280/trec06p-cs280/data/../data/120/278\n",
            "Skipping empty email at /content/trec06p-cs280/trec06p-cs280/data/../data/120/280\n",
            "Skipping empty email at /content/trec06p-cs280/trec06p-cs280/data/../data/120/281\n",
            "Skipping empty email at /content/trec06p-cs280/trec06p-cs280/data/../data/120/283\n",
            "Skipping empty email at /content/trec06p-cs280/trec06p-cs280/data/../data/120/287\n",
            "Skipping empty email at /content/trec06p-cs280/trec06p-cs280/data/../data/121/016\n",
            "Skipping empty email at /content/trec06p-cs280/trec06p-cs280/data/../data/121/030\n",
            "Skipping empty email at /content/trec06p-cs280/trec06p-cs280/data/../data/121/034\n",
            "Skipping empty email at /content/trec06p-cs280/trec06p-cs280/data/../data/121/103\n",
            "Skipping empty email at /content/trec06p-cs280/trec06p-cs280/data/../data/121/110\n",
            "Skipping empty email at /content/trec06p-cs280/trec06p-cs280/data/../data/121/123\n",
            "Skipping empty email at /content/trec06p-cs280/trec06p-cs280/data/../data/121/125\n",
            "Skipping empty email at /content/trec06p-cs280/trec06p-cs280/data/../data/121/145\n",
            "Skipping empty email at /content/trec06p-cs280/trec06p-cs280/data/../data/121/149\n",
            "Skipping empty email at /content/trec06p-cs280/trec06p-cs280/data/../data/121/154\n",
            "Skipping empty email at /content/trec06p-cs280/trec06p-cs280/data/../data/121/174\n",
            "Skipping empty email at /content/trec06p-cs280/trec06p-cs280/data/../data/121/184\n",
            "Skipping empty email at /content/trec06p-cs280/trec06p-cs280/data/../data/121/254\n",
            "Skipping empty email at /content/trec06p-cs280/trec06p-cs280/data/../data/121/282\n",
            "Skipping empty email at /content/trec06p-cs280/trec06p-cs280/data/../data/121/288\n",
            "Skipping empty email at /content/trec06p-cs280/trec06p-cs280/data/../data/121/290\n",
            "Skipping empty email at /content/trec06p-cs280/trec06p-cs280/data/../data/122/000\n",
            "Skipping empty email at /content/trec06p-cs280/trec06p-cs280/data/../data/122/033\n",
            "Skipping empty email at /content/trec06p-cs280/trec06p-cs280/data/../data/122/055\n",
            "Skipping empty email at /content/trec06p-cs280/trec06p-cs280/data/../data/122/065\n",
            "Skipping empty email at /content/trec06p-cs280/trec06p-cs280/data/../data/122/066\n",
            "Skipping empty email at /content/trec06p-cs280/trec06p-cs280/data/../data/122/077\n",
            "Skipping empty email at /content/trec06p-cs280/trec06p-cs280/data/../data/122/109\n",
            "Skipping empty email at /content/trec06p-cs280/trec06p-cs280/data/../data/122/132\n",
            "Skipping empty email at /content/trec06p-cs280/trec06p-cs280/data/../data/122/143\n",
            "Skipping empty email at /content/trec06p-cs280/trec06p-cs280/data/../data/122/157\n",
            "Skipping empty email at /content/trec06p-cs280/trec06p-cs280/data/../data/122/205\n",
            "Skipping empty email at /content/trec06p-cs280/trec06p-cs280/data/../data/122/208\n",
            "Skipping empty email at /content/trec06p-cs280/trec06p-cs280/data/../data/122/211\n",
            "Skipping empty email at /content/trec06p-cs280/trec06p-cs280/data/../data/122/214\n",
            "Skipping empty email at /content/trec06p-cs280/trec06p-cs280/data/../data/122/237\n",
            "Skipping empty email at /content/trec06p-cs280/trec06p-cs280/data/../data/122/263\n",
            "Skipping empty email at /content/trec06p-cs280/trec06p-cs280/data/../data/122/267\n",
            "Skipping empty email at /content/trec06p-cs280/trec06p-cs280/data/../data/122/273\n",
            "Skipping empty email at /content/trec06p-cs280/trec06p-cs280/data/../data/122/276\n",
            "Skipping empty email at /content/trec06p-cs280/trec06p-cs280/data/../data/122/278\n",
            "Skipping empty email at /content/trec06p-cs280/trec06p-cs280/data/../data/122/296\n",
            "Skipping empty email at /content/trec06p-cs280/trec06p-cs280/data/../data/123/001\n",
            "Skipping empty email at /content/trec06p-cs280/trec06p-cs280/data/../data/123/013\n",
            "Skipping empty email at /content/trec06p-cs280/trec06p-cs280/data/../data/123/028\n",
            "Skipping empty email at /content/trec06p-cs280/trec06p-cs280/data/../data/123/032\n",
            "Skipping empty email at /content/trec06p-cs280/trec06p-cs280/data/../data/123/049\n",
            "Skipping empty email at /content/trec06p-cs280/trec06p-cs280/data/../data/123/053\n",
            "Skipping empty email at /content/trec06p-cs280/trec06p-cs280/data/../data/123/054\n",
            "Skipping empty email at /content/trec06p-cs280/trec06p-cs280/data/../data/123/057\n",
            "Skipping empty email at /content/trec06p-cs280/trec06p-cs280/data/../data/123/069\n",
            "Skipping empty email at /content/trec06p-cs280/trec06p-cs280/data/../data/123/080\n",
            "Skipping empty email at /content/trec06p-cs280/trec06p-cs280/data/../data/123/081\n",
            "Skipping empty email at /content/trec06p-cs280/trec06p-cs280/data/../data/123/096\n",
            "Skipping empty email at /content/trec06p-cs280/trec06p-cs280/data/../data/123/182\n",
            "Skipping empty email at /content/trec06p-cs280/trec06p-cs280/data/../data/123/198\n",
            "Skipping empty email at /content/trec06p-cs280/trec06p-cs280/data/../data/123/200\n",
            "Skipping empty email at /content/trec06p-cs280/trec06p-cs280/data/../data/123/202\n",
            "Skipping empty email at /content/trec06p-cs280/trec06p-cs280/data/../data/123/206\n",
            "Skipping empty email at /content/trec06p-cs280/trec06p-cs280/data/../data/123/230\n",
            "Skipping empty email at /content/trec06p-cs280/trec06p-cs280/data/../data/123/261\n",
            "Skipping empty email at /content/trec06p-cs280/trec06p-cs280/data/../data/123/275\n",
            "Skipping empty email at /content/trec06p-cs280/trec06p-cs280/data/../data/123/289\n",
            "Skipping empty email at /content/trec06p-cs280/trec06p-cs280/data/../data/124/012\n",
            "Skipping empty email at /content/trec06p-cs280/trec06p-cs280/data/../data/124/026\n",
            "Skipping empty email at /content/trec06p-cs280/trec06p-cs280/data/../data/124/031\n",
            "Skipping empty email at /content/trec06p-cs280/trec06p-cs280/data/../data/124/075\n",
            "Skipping empty email at /content/trec06p-cs280/trec06p-cs280/data/../data/124/122\n",
            "Skipping empty email at /content/trec06p-cs280/trec06p-cs280/data/../data/124/142\n",
            "Skipping empty email at /content/trec06p-cs280/trec06p-cs280/data/../data/124/146\n",
            "Skipping empty email at /content/trec06p-cs280/trec06p-cs280/data/../data/124/149\n",
            "Skipping empty email at /content/trec06p-cs280/trec06p-cs280/data/../data/124/163\n",
            "Skipping empty email at /content/trec06p-cs280/trec06p-cs280/data/../data/124/167\n",
            "Skipping empty email at /content/trec06p-cs280/trec06p-cs280/data/../data/124/172\n",
            "Skipping empty email at /content/trec06p-cs280/trec06p-cs280/data/../data/124/180\n",
            "Skipping empty email at /content/trec06p-cs280/trec06p-cs280/data/../data/124/183\n",
            "Skipping empty email at /content/trec06p-cs280/trec06p-cs280/data/../data/124/191\n",
            "Skipping empty email at /content/trec06p-cs280/trec06p-cs280/data/../data/124/209\n",
            "Skipping empty email at /content/trec06p-cs280/trec06p-cs280/data/../data/124/228\n",
            "Skipping empty email at /content/trec06p-cs280/trec06p-cs280/data/../data/124/236\n",
            "Skipping empty email at /content/trec06p-cs280/trec06p-cs280/data/../data/125/112\n",
            "[['the', 'mailing', 'list', 'i', 'queried', 'about', 'a', 'few', 'weeks', 'ago', 'is', 'now', 'up', 'and', 'running', 'i', 'have', 'also', 'set', 'up', 'an', 'archive', 'server', 'see', 'below', 'the', 'following', 'is', 'the', 'official', 'welcome', 'to', 'the', 'list', 'message', 'at', 'the', 'moment', 'joe', 'buehler', 'this', 'mailing', 'list', 'is', 'for', 'people', 'who', 'desire', 'serious', 'orthodox', 'discussion', 'of', 'the', 'roman', 'catholic', 'religion', 'i', 'assume', 'that', 'it', 'will', 'cater', 'mainly', 'to', 'catholics', 'but', 'everyone', 'else', 'is', 'welcome', 'provided', 'they', 'operate', 'within', 'the', 'below', 'guidelines', 'my', 'own', 'interests', 'have', 'a', 'doctrinal', 'bent', 'but', 'im', 'certainly', 'not', 'going', 'to', 'limit', 'this', 'list', 'to', 'just', 'that', 'sort', 'of', 'discussion', 'having', 'participated', 'in', 'usenet', 'religion', 'groups', 'for', 'about', 'years', 'now', 'one', 'of', 'my', 'primary', 'observations', 'about', 'catholics', 'on', 'the', 'net', 'is', 'that', 'they', 'do', 'not', 'know', 'their', 'religion', 'very', 'well', 'my', 'hope', 'is', 'that', 'this', 'list', 'might', 'help', 'remedy', 'this', 'problem', 'to', 'some', 'extent', 'i', 'would', 'like', 'to', 'make', 'this', 'a', 'net', 'resource', 'available', 'for', 'catholics', 'who', 'want', 'to', 'know', 'more', 'about', 'their', 'religion', 'as', 'far', 'as', 'moderation', 'policy', 'goes', 'the', 'catholic', 'church', 'is', 'not', 'a', 'democracy', 'its', 'a', 'monarchy', 'subject', 'to', 'a', 'divinely', 'given', 'constitution', 'i', 'dont', 'set', 'the', 'rules', 'in', 'the', 'church', 'neither', 'does', 'my', 'parish', 'priest', 'nor', 'does', 'my', 'bishop', 'nor', 'does', 'the', 'pope', 'everyone', 'has', 'to', 'adhere', 'to', 'the', 'way', 'christ', 'set', 'things', 'up', 'i', 'think', 'it', 'follows', 'that', 'its', 'not', 'really', 'appropriate', 'for', 'someone', 'to', 'call', 'himself', 'a', 'catholic', 'and', 'argue', 'with', 'this', 'state', 'of', 'affairs', 'if', 'you', 'want', 'to', 'be', 'catholic', 'its', 'simple', 'enough', 'you', 'have', 'to', 'follow', 'the', 'teaching', 'of', 'the', 'church', 'the', 'moderation', 'policy', 'will', 'reflect', 'this', 'way', 'of', 'thinking', 'there', 'are', 'plenty', 'of', 'other', 'places', 'on', 'the', 'net', 'where', 'catholic', 'doctrine', 'can', 'be', 'freely', 'attacked', 'if', 'in', 'doubt', 'you', 'can', 'always', 'subscribe', 'and', 'see', 'whether', 'the', 'list', 'is', 'to', 'your', 'taste', 'besides', 'the', 'mailing', 'list', 'there', 'are', 'a', 'few', 'other', 'things', 'that', 'may', 'be', 'of', 'interest', 'i', 'have', 'set', 'up', 'an', 'archive', 'server', 'that', 'we', 'can', 'put', 'interesting', 'things', 'in', 'it', 'doesnt', 'have', 'anything', 'in', 'it', 'at', 'the', 'moment', 'except', 'some', 'unix', 'software', 'useful', 'for', 'such', 'endeavors', 'sorry', 'guys', 'but', 'nothing', 'thats', 'copyrighted', 'goes', 'into', 'it', 'i', 'am', 'planning', 'on', 'setting', 'up', 'a', 'quotation', 'server', 'that', 'can', 'email', 'periodic', 'interesting', 'citations', 'from', 'the', 'principal', 'sources', 'of', 'catholic', 'doctrine', 'not', 'done', 'yet', 'i', 'have', 'obtained', 'permission', 'from', 'the', 'english', 'language', 'publishers', 'of', 'the', 'italian', 'catholic', 'magazine', 'days', 'to', 'take', 'material', 'from', 'their', 'magazine', 'i', 'intend', 'to', 'scan', 'some', 'of', 'the', 'more', 'interesting', 'pictures', 'ever', 'seen', 'a', 'cristero', 'or', 'st', 'pius', 'x', 'and', 'put', 'them', 'in', 'the', 'archives', 'and', 'also', 'post', 'extracts', 'from', 'some', 'of', 'the', 'more', 'interesting', 'articles', 'its', 'a', 'european', 'magazine', 'and', 'is', 'of', 'generally', 'higher', 'quality', 'than', 'american', 'catholic', 'material', 'in', 'my', 'opinion', 'if', 'you', 'have', 'any', 'questions', 'would', 'like', 'to', 'subscribe', 'etc', 'send', 'email', 'to', 'catholicsartobuddlakenjus']] [0]\n"
          ]
        }
      ]
    },
    {
      "cell_type": "code",
      "execution_count": 95,
      "metadata": {
        "colab": {
          "base_uri": "https://localhost:8080/"
        },
        "id": "SoukOcKqI7-y",
        "outputId": "0a50384e-8c29-4eb8-b1bd-4ee06b4852d6"
      },
      "outputs": [
        {
          "output_type": "stream",
          "name": "stdout",
          "text": [
            "Top 10 words: ['the', 'to', 'a', 'and', 'of', 'div', 'in', 'i', 'is', 'for', 'you', 'td', 'that', 'px', 'this', 'br', 'with', 'it', 'from', 'on', 'tr', 'be', 'width', 'size', 'by', 'are', 'strong', 'have', 'as', 'at', 'your', 'p', 'or', 'not', 'font', 'bb', 'we', 'will', 'html', 'our', 'if', 'facearial', 'body', 'but', 'an', 'my', 'can', 'all', 'border', 'float', 'was', 'no', 'c', 'has', 'meta', 'more', 'v', 'its', 'right', 'r', 'height', 'one', 'table', 'x', 'head', 'n', 'any', 'color', 'l', 'do', 'span', 'e', 'they', 'me', 's', 'about', 'new', 'would', 'img', 'there', 'out', 'so', 'get', 't', 'styleborder', 'when', 'left', 'price', 'some', 'm', 'which', 'up', 'divnbspdiv', 'b', 'what', 'u', 'may', 'divfont', 'email', 'cellspacing', 'o', 'been', 'use', 'now', 'like', 'g', 'd', 'only', 'received', 'also', 'id', 'other', 'he', 'please', 'am', 'product_table', 'httpequivcontenttype', 'time', 'us', 'style', 'list', 'cellpadding', 'company', 'contenttexthtml', 'subject', 'f', 'ms', 'info', 'h', 'nbsp', 'information', 'fontsize', 'date', 'how', 'none', 'z', 'just', 'message', 'could', 'vulnerable', 'their', 'adobe', 'these', 'had', 'dont', 'then', 'microsoft', 'them', 'were', 'using', 'here', 'file', 'help', 'very', 'colorwhite', 'k', 'should', 'know', 'than', 'want', 'number', 'kb', 'see', 'used', 'office', 'gold', 'make', 'need', 'pt', 'j', 'after', 'w', 'windows', 'y', 'into', 'campaign', 'send', 'way', 'public', 'fontweight', 'wrote', 'dmdx', 'work', 'im', 'medium', 'first', 'does', 'program', 'his', 'hi', 're', 'board', 'many', 'two', 'rating', 'well', 'who', 'down', 'even', 'problem', 'system', 'where', 'brdiv', 'adiv', 'over', 'thanks', 'university', 'available', 'nil', 'mail', 'each', 'q', 'cm', 'professional', 'faceverdana', 'xp', 'much', 'save', 'normal', 'valigntop', 'wcdtd', 'back', 'doctype', 'contenttype', 'fontfamily', 'good', 'go', 'de', 'website', 'stock', 'being', 'bit', 'data', 'before', 'because', 'aligncenter', 'most', 'solid', 'news', 'think', 'widthtd', 'bgcolorffffff', 'put', 'through', 'such', 'stylefontsize', 'charsetusascii', 'alt', 'charsetwindows', 'stylefloat', 'service', 'still', 'paddingleft', 'margin', 'widthfont', 'retail', 'inc', 'dmdxpsypsycharizonaedu', 'best', 'call', 'last', 'same', 'said', 'people', 'next', 'ddd', 'center', 'day', 'set', 'name', 'astrongdiv', 'istrongdiv', 'transitionalen', 'dec', 'arial', 'address', 'display', 'httpequivcontentlanguage', 'did', 'code', 'following', 'facearialverdana', 'find', 'without', 'pm', 'fax', 'contentenus', 'bold', 'line', 'li', 'anyone', 'esmtp', 'helvetica', 'world', 'fontbtd', 'great', 'those', 'tbody', 'tablebrbr', 'today', 'product', 'target_blankmore', 'current', 'top', 'textplain', 'network', 'run', 'video', 'computer', 'text', 'development', 'take', 'paddingtop', 'add', 'free', 'paddingbottom', 'while', 'wed', 'brbr', 'paddingright', 'off', 'research', 'china', 'files', 'web', 'end', 'corp', 'money', 'rpcss', 'namegenerator', 'really', 'give', 'try', 'years', 'since', 'might', 'too', 'version', 'side', 'read', 'thu', 'around', 'already', 'pro', 'better', 'possible', 'times', 'days', 'going', 'getting', 'contentmshtml', 'mimeversion', 'big', 'endobj', 'site', 'sure', 'provide', 'software', 'nbspdiv', 'internet', 'block', 'item', 'different', 'mon', 'sansserif', 'borderatd', 'htmlhead', 'between', 'business', 'why', 'another', 'long', 'ive', 'both', 'special', 'under', 'crustl', 'access', 'messageid', 'week', 'however', 'sender', 'contact', 'phone', 'again', 'something', 'pfont', 'against', 'aligncenterbfont', 'borderbottom', 'within', 'sent', 'technology', 'contenttransferencoding', 'fff', 'found', 'error', 'replyto', 'visit', 'part', 'uu', 'made', 'life', 'known', 'oil', 'server', 'got', 'must', 'bring', 'look', 'unsubscribe', 'opt', 'offer', 'tue', 'account', 'based', 'systems', 'full', 'order', 'colorff', 'alignright', 'currently', 'obj', 'patched', 'having', 'cellpaddingtr', 'nowrap', 'verticalalign', 'original', 'option', 'classproduct_table', 'classodd', 'classmoney', 'real', 'note', 'jonathan', 'gas', 'group', 'things', 'gt', 'space', 'complete', 'fast', 'receive', 'power', 'security', 'start', 'own', 'textdecoration', 'fontafont', 'effects', 'energy', 'area', 'faceverdanaarial', 'control', 'textalign', 'srchttpbookgeocitiesjpvipcollectvipimagesbanner_jpg', 'dup', 'background', 'change', 'support', 'type', 'high', 'forward', 'say', 'international', 'th', 'doesnt', 'stylestyle', 'online', 'her', 'hrefhttpleftanotherpartynet', 'market', 'problems', 'able', 'word', 'jan', 'heighttd', 'fri', 'charsetiso', 'langenus', 'running', 'few', 'services', 'thank', 'jcf', 'small', 'hoodia', 'never', 'per', 'page', 'come', 'input', '_', 'borderleft', 'second', 'keep', 'several', 'node', 'hb', 'potential', 'home', 'ra', 'check', 'nodes', 'million', 'department', 'case', 'response', 'thing', 'etc', 'point', 'dmdxownerpsypsycharizonaedu', 'bordertop', 'value', 'least', 'until', 'colspan', 'youll', 'experience', 'hours', 'question', 'let', 'once', 'always', 'results', 'looking', 'year', 'alignleft', 'cant', 'target_blankimg', 'report', 'nbsptd', 'reviews', 'below', 'additional', 'away', 'valigntopdiv', 'pounds', 'handyboard', 'paper', 'including', 'ascii', 'trying', 'cart', 'apple', 'studies', 'borderright', 'weight', 'box', 'ever', 'facetimes', 'include', 'widthatd', 'low', 'loss', 'messages', 'tried', 'him', 'bradd', 'compacted_description', 'classborder', 'classsp_title', 'classsp_price', 'nbspnbspnbspdivspan', 'classcompacted_image', 'srchttpimageshopzillacomresizesquid', 'classcompacted_description', 'classtitlelink', 'classrating', 'classgreylink', 'srchttpimgshopzillacomshopzillarating__star_xgif', 'reviewsadiv', 'colorbe', 'classb_price', 'classdgts', 'uuspanspantd', 'classcompacted_pricecenter', 'srchttpgimagesamazoncomimagesgdetailaddtocartmidsizegif', 'cartacenter', 'little', 'release', 'three', 'every', 'ediv', 'memory', 'idiv', 'working', 'ndiv', 'xdiv', 'vstrongdiv', 'lstrongdiv', 'cs', 'test', 'sep', 'exploration', 'project', 'verdana', 'la', 'hereabrbr', 'works', 'cantex', 'sun', 'digest', 'pdf', 'acrobat', 'issue', 'pa', 'nov', 'ribbon', 'numbers', 'place', 'course', 'she', 'example', 'et', 'output', 'products', 'seems', 'changed', 'fontdiv', 'card', 'approved', 'alttd', 'design', 'during', 'done', 'heighta', 'press', 'dear', 'thats', 'large', 'form', 'doing', 'claims', 'recent', 'port', 'photoshop', 'far', 'alignmiddle', 'state', 'above', 'interested', 'key', 'ic', 'womens', 'bmp', 'further', 'important', 'john', 'science', 'bank', 'digital', 'edition', 'soon', 'update', 'diva', 'ul', 'application', 'short', 'properties', 'motor', 'st', 'colorred', 'open', 'write', 'feel', 'telecom', 'fontifont', 'later', 'roman', 'old', 'solution', 'simply', 'format', 'act', 'hope', 'idea', 'though', 'seen', 'post', 'enough', 'smtp', 'future', 'leave', 'link', 'questions', 'actually', 'local', 'yet', 'sizefonttd', 'apr', 'companies', 'rate', 'share', 'aug', 'fd', 'students', 'tell', 'limited', 'adivtd', 'jul', 'wish', 'usa', 'past', 'private', 'map', 'classhspan', 'golden', 'technologies', 'handy', 'san', 'aligncenterfont', 'process', 'allow', 'class', 'spans', 'someone', 'anything', 'kind', 'either', 'longer', 'machine', 'feb', 'premiere', 'yew', 'probably', 'lot', 'multiple', 'monday', 'april', 'precedence', 'says', 'starting', 'matter', 'mar', 'resources', 'txt_add', 'client', 'valigntoptable', 'auto', 'friday', 'making', 'women', 'est', 'length', 'management', 'common', 'classmsonormal', 'less', 'source', 'mailing', '_dragon', 'hrefhttppohuatorcom', 'food', 'else', 'infinex', 'fact', 'oct', 'interest', 'title', 'pleased', 'applications', 'corporation', 'dvd', 'return', 'section', 'five', 'request', 'meeting', 'via', 'store', 'general', 'click', 'device', 'fine', 'companys', 'investors', 'mode', 'record', 'ff', 'gone', 'tel', 'groups', 'cannot', 'padding', 'various', 'given', 'turn', 'believe', 'thought', 'weightbr', 'zipping', 'energybr', 'herea', 'stop', 'mr', 'opportunities', 'third', 'country', 'regards', 'fontspan', 'begin', 'cost', 'classmsonormalspan', 'encore', 'brdivbodyhtml', 'interval', 'ago', 'operations', 'instead', 'reply', 'processing', 'present', 'show', 'users', 'items', 'audition', 'classtop', 'compacted_image', 'compacted_price', 'classpadding_div', 'classhp_main_center', 'professionalliadobe', 'prolims', 'brtdtrtabletable', 'delay', 'yahoo', 'lose', 'quite', 'itself', 'came', 'formatflowed', 'credit', 'correct', 'industry', 'four', 'simple', 'download', 'pay', 'due', 'pc', 'rowspan', 'early', 'evergladesbincnet', 'engineering', 'didnt', 'wrong', 'stream', 'details', 'widtha', 'others', 'stylemargin', 'standard', 'light', 'north', 'alignleftfont', 'conference', 'true', 'level', 'single', 'provided', 'spanspan', 'divstrongfont', 'hard', 'user', 'watch', 'hello', 'production', 'refresh', 'black', 'inreplyto', 'customer', 'across', 'yes', 'person', 'lines', 'whether', 'promotional', 'styleclear', 'bothnbspdiv', 'programs', 'shipping', 'deal', 'history', 'everyone', 'opportunity', 'screen', 'dr', 'prices', 'plan', 'rather', 'organization', 'httphyakushowcomtada', 'issues', 'buy', 'designed', 'blockquote', 'agreement', 'sincerely', 'ephedra', 'widthwindowstd', 'result', 'answer', 'ill', 'serial', 'expect', 'majordomovimsedu', 'robot', 'divhidiv', 'although', 'started', 'target_blank', 'nothing', 'school', 'states', 'script', 'em', 'means', 'total', 'west', 'makes', 'tdtd', 'ub', 'prospect', 'book', 'sound', 'men', 'weeks', 'called', 'asked', 'sat', 'cc', 'trading', 'fontfont', 'protocol', 'timeout', 'study', 'expected', 'pdt', 'month', 'filter', 'pretty', 'middle', 'june', 'announce', 'expansion', 'huge', 'field', 'play', 'manager', 'alignjustifyfont', 'ln', 'joint', 'almost', 'maybe', 'shares', 'required', 'youve', 'ready', 'easy', 'vulnerability', 'interesting', 'texas', 'related', 'national', 'cash', 'returnpath', 'names', 'addresses', 'sizefont', 'seem', 'extension', 'director', 'ie', 'effective', 'marginleft', 'hrefhttpwwwloveinfashioncomshop_detailphpidampnowmenuidampcpathampcatidimg', 'red', 'function', 'model', 'references', 'routing', 'networks', 'path', 'members', 'minutes', 'eg', 'recently', 'held', 'satisfaction', 'clients', 'seismic', 'statements', 'facecourier', 'discussion', 'main', 'quality', 'close', 'investment']\n",
            "Vocabulary size: 1000\n"
          ]
        }
      ],
      "source": [
        "# Flatten the list of tokenized emails and count word frequencies\n",
        "word_counts = Counter(word for email in emails for word in email)\n",
        "\n",
        "#Extract the 10,000 most common words\n",
        "common_words = [word for word, count in word_counts.most_common(1000)]\n",
        "\n",
        "# # Extract words with count > k (e.g., k = 100)\n",
        "# k = 100\n",
        "# common_words = [word for word, count in word_counts.items() if count > k]\n",
        "\n",
        "print(f\"Top 10 words: {common_words[:1000]}\")\n",
        "print(f\"Vocabulary size: {len(common_words)}\")\n"
      ]
    },
    {
      "cell_type": "code",
      "execution_count": 96,
      "metadata": {
        "colab": {
          "base_uri": "https://localhost:8080/"
        },
        "id": "V_XpQ63oJKm6",
        "outputId": "d7bcfd26-8f9a-49bf-8b15-f20527f198bc"
      },
      "outputs": [
        {
          "output_type": "stream",
          "name": "stdout",
          "text": [
            "Feature matrix shape: (37553, 1000)\n"
          ]
        }
      ],
      "source": [
        "def create_feature_matrix(emails, vocab):\n",
        "    \"\"\"\n",
        "    Create a binary feature matrix where each row represents an email\n",
        "    and each column represents a word in the vocabulary.\n",
        "    \"\"\"\n",
        "    feature_matrix = np.zeros((len(emails), len(vocab)), dtype=np.int8)\n",
        "    word_to_index = {word: idx for idx, word in enumerate(vocab)}\n",
        "\n",
        "    for i, email in enumerate(emails):\n",
        "        for word in email:\n",
        "            if word in word_to_index:\n",
        "                feature_matrix[i, word_to_index[word]] = 1\n",
        "\n",
        "    return feature_matrix\n",
        "\n",
        "# Create the feature matrix\n",
        "feature_matrix = create_feature_matrix(emails, common_words)\n",
        "print(f\"Feature matrix shape: {feature_matrix.shape}\")\n"
      ]
    },
    {
      "cell_type": "code",
      "execution_count": 97,
      "metadata": {
        "colab": {
          "base_uri": "https://localhost:8080/"
        },
        "id": "W4ahnehdJPhC",
        "outputId": "eaeb7cba-3dbb-4477-8a39-46a15dc93741"
      },
      "outputs": [
        {
          "output_type": "stream",
          "name": "stdout",
          "text": [
            "Training set size: (26287, 1000)\n",
            "Testing set size: (11266, 1000)\n"
          ]
        }
      ],
      "source": [
        "# Split into training and testing sets (70% train, 30% test)\n",
        "X_train, X_test, y_train, y_test = train_test_split(feature_matrix, labels, test_size=0.3, random_state=42)\n",
        "\n",
        "print(f\"Training set size: {X_train.shape}\")\n",
        "print(f\"Testing set size: {X_test.shape}\")\n"
      ]
    },
    {
      "cell_type": "code",
      "execution_count": 110,
      "metadata": {
        "id": "si-pfcsqJZGK"
      },
      "outputs": [],
      "source": [
        "class NaiveBayesSpamFilter:\n",
        "    def __init__(self, alpha=0.005):\n",
        "        self.alpha = alpha  # Laplace smoothing factor\n",
        "        self.prob_spam = None\n",
        "        self.prob_ham = None\n",
        "        self.spam_word_probs = None\n",
        "        self.ham_word_probs = None\n",
        "\n",
        "    def train(self, X, y):\n",
        "        # Separate spam and ham emails\n",
        "        spam_emails = X[y == 1]\n",
        "        ham_emails = X[y == 0]\n",
        "\n",
        "        # Calculate prior probabilities\n",
        "        self.prob_spam = len(spam_emails) / len(y)\n",
        "        self.prob_ham = len(ham_emails) / len(y)\n",
        "\n",
        "        # Calculate likelihoods with Laplace smoothing\n",
        "        self.spam_word_probs = (spam_emails.sum(axis=0) + self.alpha) / (spam_emails.sum() + self.alpha * X.shape[1])\n",
        "        self.ham_word_probs = (ham_emails.sum(axis=0) + self.alpha) / (ham_emails.sum() + self.alpha * X.shape[1])\n",
        "\n",
        "    def predict(self, X):\n",
        "        # Calculate log probabilities for numerical stability\n",
        "        spam_scores = (X @ np.log(self.spam_word_probs)) + np.log(self.prob_spam)\n",
        "        ham_scores = (X @ np.log(self.ham_word_probs)) + np.log(self.prob_ham)\n",
        "\n",
        "        # Return 1 if spam score is higher, else 0\n",
        "        return (spam_scores > ham_scores).astype(int)\n"
      ]
    },
    {
      "cell_type": "code",
      "execution_count": 111,
      "metadata": {
        "id": "UW4ZlquiJa_5"
      },
      "outputs": [],
      "source": [
        "# Convert lists to NumPy arrays\n",
        "X_train = np.array(X_train)\n",
        "X_test = np.array(X_test)\n",
        "y_train = np.array(y_train)\n",
        "y_test = np.array(y_test)\n",
        "\n",
        "# Initialize and train the classifier\n",
        "nb_classifier = NaiveBayesSpamFilter(alpha=1.0)\n",
        "nb_classifier.train(X_train, y_train)\n"
      ]
    },
    {
      "cell_type": "code",
      "execution_count": 112,
      "metadata": {
        "colab": {
          "base_uri": "https://localhost:8080/"
        },
        "id": "AnfpDKXPJcxJ",
        "outputId": "dcf8ca22-d8de-43a0-9fc3-6ae3ace2fddc"
      },
      "outputs": [
        {
          "output_type": "stream",
          "name": "stdout",
          "text": [
            "Accuracy: 0.8960\n",
            "Precision: 0.9813\n",
            "Recall: 0.8594\n"
          ]
        }
      ],
      "source": [
        "y_pred = nb_classifier.predict(X_test)\n",
        "\n",
        "def calculate_accuracy(y_true, y_pred):\n",
        "    return np.sum(y_true == y_pred) / len(y_true)\n",
        "\n",
        "def calculate_precision(y_true, y_pred):\n",
        "    true_positives = np.sum((y_pred == 1) & (y_true == 1))\n",
        "    false_positives = np.sum((y_pred == 1) & (y_true == 0))\n",
        "    return true_positives / (true_positives + false_positives)\n",
        "\n",
        "def calculate_recall(y_true, y_pred):\n",
        "    true_positives = np.sum((y_pred == 1) & (y_true == 1))\n",
        "    false_negatives = np.sum((y_pred == 0) & (y_true == 1))\n",
        "    return true_positives / (true_positives + false_negatives)\n",
        "\n",
        "# Compute metrics\n",
        "accuracy = calculate_accuracy(y_test, y_pred)\n",
        "precision = calculate_precision(y_test, y_pred)\n",
        "recall = calculate_recall(y_test, y_pred)\n",
        "\n",
        "print(f\"Accuracy: {accuracy:.4f}\")\n",
        "print(f\"Precision: {precision:.4f}\")\n",
        "print(f\"Recall: {recall:.4f}\")\n"
      ]
    },
    {
      "cell_type": "markdown",
      "metadata": {
        "id": "fBi6C8YlLMYC"
      },
      "source": [
        "What is the effect of removing stop words in terms of precision, recall, and\n",
        "accuracy?  Show a plot or a table of these results.\n",
        "\n",
        "Removing stop_words increased the accuracy, precision, and recall of the model. The table below will show the difference of each evaluation metrics value if the model is trained with and without the stop words.\n",
        "\n",
        "Removed stop words:\n",
        "Accuracy: 0.9490\n",
        "Precision: 0.9927\n",
        "Recall: 0.9298\n",
        "\n",
        "Stop words not removed:\n",
        "Accuracy: 0.9429\n",
        "Precision: 0.9938\n",
        "Recall: 0.9197"
      ]
    },
    {
      "cell_type": "markdown",
      "source": [
        "Experiment on the number of words used for training.  Filter the dictionary to\n",
        "include only words occurring more than k times (1000 words, then k > 100, and k\n",
        "= 50 times).  For example, the word “offer” appears 150 times, that means that it\n",
        "will be included in the dictionary.\n",
        "\n",
        "For 1000 words:\n",
        "Accuracy: 0.9490\n",
        "Precision: 0.9927\n",
        "Recall: 0.9298\n",
        "\n",
        "For K>100:\n",
        "Accuracy: 0.9423\n",
        "Precision: 0.9933\n",
        "Recall: 0.9191\n",
        "\n",
        "For k = 50:\n",
        "Accuracy: 0.8061\n",
        "Precision: 0.9469\n",
        "Recall: 0.7496\n",
        "\n",
        "This means that when we use the most common words for our model, it significantly increases its accuracy, precision, and recall for prediction."
      ],
      "metadata": {
        "id": "c7tNYzFl3Gpv"
      }
    },
    {
      "cell_type": "markdown",
      "source": [
        "Discuss the results of the different parameters used for Lambda smoothing.  Test\n",
        "it on 5 varying values of the λ (e.g. λ = 2.0, 1.0, 0.5, 0.1, 0.005),  Evaluate\n",
        "performance metrics for each.\n",
        "\n",
        "λ = 2.0: Accuracy: 0.8960 Precision: 0.9813 Recall: 0.8594\n",
        "\n",
        "λ = 1.0: Accuracy: 0.9490 Precision: 0.9927 Recall: 0.9298\n",
        "\n",
        "λ = 0.5: Accuracy: 0.8960 Precision: 0.9813 Recall: 0.8594\n",
        "\n",
        "λ = 0.1: Accuracy: 0.8960 Precision: 0.9813 Recall: 0.8594\n",
        "\n",
        "λ = 0.005: Accuracy: 0.8960 recision: 0.9813 Recall: 0.8594\n",
        "\n",
        "Lambda is significant to apply laplace smoothing in my naive bayes model. Based on the table above, the best value for lambda is 1.0 as it acquires the highes prrecision, recall, and accuracy.\n",
        "\n"
      ],
      "metadata": {
        "id": "HakW88rX4HKN"
      }
    },
    {
      "cell_type": "markdown",
      "source": [
        "What are your recommendations to further improve the model?\n",
        "\n",
        "Currrently, we are using binary word presence to get the weight of each word in predicting spam or ham. Maybe next time we can employ TF-IDF to know the weight of each word based on their importance."
      ],
      "metadata": {
        "id": "qqbC5_DF4Kom"
      }
    }
  ],
  "metadata": {
    "colab": {
      "provenance": []
    },
    "kernelspec": {
      "display_name": "Python 3",
      "name": "python3"
    },
    "language_info": {
      "name": "python"
    }
  },
  "nbformat": 4,
  "nbformat_minor": 0
}